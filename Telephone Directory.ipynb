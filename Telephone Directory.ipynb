{
 "cells": [
  {
   "cell_type": "code",
   "execution_count": 1,
   "id": "d736a61c",
   "metadata": {},
   "outputs": [],
   "source": [
    "import pymongo"
   ]
  },
  {
   "cell_type": "code",
   "execution_count": 2,
   "id": "242e103d",
   "metadata": {},
   "outputs": [],
   "source": [
    "client = pymongo.MongoClient('mongodb://127.0.0.1:27017/')\n",
    "db = client[\"TelephoneDirectory\"]\n",
    "collection = db.directory"
   ]
  },
  {
   "cell_type": "code",
   "execution_count": 3,
   "id": "f5a6f845",
   "metadata": {},
   "outputs": [
    {
     "data": {
      "text/plain": [
       "<pymongo.results.InsertManyResult at 0x200cb80bfa0>"
      ]
     },
     "execution_count": 3,
     "metadata": {},
     "output_type": "execute_result"
    }
   ],
   "source": [
    "records =[\n",
    "    {\n",
    "        \"Name\":\"Divya\",\n",
    "        \"Phone_number\":\"9878938765\",\n",
    "        \"City\":\"Chennai\",\n",
    "        \"State\":\"Tamilnadu\",\n",
    "        \"Pincode\":\"600001\"  \n",
    "    },\n",
    "     {\n",
    "        \"Name\":\"Selva\",\n",
    "        \"Phone_number\":\"9342678345\",\n",
    "        \"City\":\"Coimbatore\",\n",
    "        \"State\":\"Tamilnadu\",\n",
    "        \"Pincode\":\"631027\"  \n",
    "    },\n",
    "     {\n",
    "        \"Name\":\"Varsha\",\n",
    "        \"Phone_number\":\"8794628198\",\n",
    "        \"City\":\"Chennai\",\n",
    "        \"State\":\"Tamilnadu\",\n",
    "        \"Pincode\":\"600003\"  \n",
    "    },\n",
    "     {\n",
    "        \"Name\":\"Nikitha\",\n",
    "        \"Phone_number\":\"9236701784\",\n",
    "        \"City\":\"Mumbai\",\n",
    "        \"State\":\"Maharashtra\",\n",
    "        \"Pincode\":\"400002\"  \n",
    "    },\n",
    "     {\n",
    "        \"Name\":\"Sanju\",\n",
    "        \"Phone_number\":\"9361739027\",\n",
    "        \"City\":\"Mumbai\",\n",
    "        \"State\":\"Maharashtra\",\n",
    "        \"Pincode\":\"400001\"  \n",
    "    }\n",
    "]\n",
    "collection.insert_many(records)"
   ]
  },
  {
   "cell_type": "code",
   "execution_count": 4,
   "id": "6ea1ee01",
   "metadata": {},
   "outputs": [],
   "source": [
    "def create():\n",
    "    data=input(\"Enter your Name, Phone_Number, City, State, Pincode:\")\n",
    "    name,number,city,state,pincode=map(str,data.split())\n",
    "    record=dict()\n",
    "    record.update({\"Name\":name,\"Phone_number\":number,\"City\":city,\"State\":state,\"Pincode\":pincode})\n",
    "    collection.insert_one(record)\n",
    "    print(\"New contact successfully created!\")"
   ]
  },
  {
   "cell_type": "code",
   "execution_count": 5,
   "id": "ad1d0486",
   "metadata": {},
   "outputs": [],
   "source": [
    "def read():\n",
    "    option=input(\"Want to display all contacts? (Y/N)\")\n",
    "    if option==\"Y\":\n",
    "        for i in collection.find():\n",
    "            print(i)\n",
    "    elif option==\"N\":\n",
    "        name=input(\"Enter the name of the contact:\")\n",
    "        data=collection.find_one({\"Name\":name})\n",
    "        print(data)\n",
    "    else:\n",
    "        print(\"Enter a valid value\")"
   ]
  },
  {
   "cell_type": "code",
   "execution_count": 6,
   "id": "b49468fa",
   "metadata": {},
   "outputs": [],
   "source": [
    "def update():\n",
    "    name=input(\"Enter the name of the contact that you want to update:\")\n",
    "    print(\"\"\"What you want to update:\n",
    "                     1. Phone Number\n",
    "                     2. City\n",
    "                     3. State\n",
    "                     4. Pincode\"\"\")\n",
    "    option=input()\n",
    "    if option==\"1\":\n",
    "        phone=input(\"Enter the new phone number:\")\n",
    "        collection.update_one({\"Name\":name},{\"$set\": {\"Phone_number\":phone}})\n",
    "        print(\"Successfully updated the phone number!\")\n",
    "        data=collection.find_one({\"Name\":name})\n",
    "        print(data)\n",
    "        \n",
    "    elif option==\"2\":\n",
    "        city=input(\"Enter the new city:\")\n",
    "        collection.update_one({\"Name\":name},{\"$set\": {\"City\":city}})\n",
    "        print(\"Successfully updated the city!\")\n",
    "        data=collection.find_one({\"Name\":name})\n",
    "        print(data)\n",
    "        \n",
    "    elif option==\"3\":\n",
    "        state=input(\"Enter the new state:\")\n",
    "        collection.update_one({\"Name\":name},{\"$set\": {\"State\":state}})\n",
    "        print(\"Successfully updated the state!\")            \n",
    "        data=collection.find_one({\"Name\":name})\n",
    "        print(data)\n",
    "        \n",
    "    elif option==\"4\":\n",
    "        pin=input(\"Enter the new pincode:\")\n",
    "        collection.update_one({\"Name\":name},{\"$set\": {\"Pincode\":pin}})\n",
    "        print(\"Successfully updated the pincode!\")\n",
    "        data=collection.find_one({\"Name\":name})\n",
    "        print(data)\n",
    "            \n",
    "    else:\n",
    "        print(\"Enter a valid option\")"
   ]
  },
  {
   "cell_type": "code",
   "execution_count": 7,
   "id": "f970bba6",
   "metadata": {},
   "outputs": [],
   "source": [
    "def delete():\n",
    "    name=input(\"Enter the name of the contact you want to delete:\")\n",
    "    collection.delete_one({\"Name\":name})\n",
    "    print(\"Successfully deleted\",name)"
   ]
  },
  {
   "cell_type": "code",
   "execution_count": null,
   "id": "bbd5266d",
   "metadata": {},
   "outputs": [
    {
     "name": "stdout",
     "output_type": "stream",
     "text": [
      "TELEPHONE DIRECTORY\n",
      "           1. Create new contact\n",
      "           2. Display the contact\n",
      "           3. Update the contact\n",
      "           4. Delete the contact\n"
     ]
    }
   ],
   "source": [
    "def home():\n",
    "    print(\"\"\"TELEPHONE DIRECTORY\n",
    "           1. Create new contact\n",
    "           2. Display the contact\n",
    "           3. Update the contact\n",
    "           4. Delete the contact\"\"\")\n",
    "    option=int(input(\"Enter an option::\"))\n",
    "    if option==1:\n",
    "        create()\n",
    "    elif option==2:\n",
    "        read()\n",
    "    elif option==3:\n",
    "        update()\n",
    "    elif option==4:\n",
    "        delete()\n",
    "    else:\n",
    "        print(\"Enter a valid option\")\n",
    "        home()\n",
    "home()        "
   ]
  }
 ],
 "metadata": {
  "kernelspec": {
   "display_name": "Python 3 (ipykernel)",
   "language": "python",
   "name": "python3"
  },
  "language_info": {
   "codemirror_mode": {
    "name": "ipython",
    "version": 3
   },
   "file_extension": ".py",
   "mimetype": "text/x-python",
   "name": "python",
   "nbconvert_exporter": "python",
   "pygments_lexer": "ipython3",
   "version": "3.10.7"
  }
 },
 "nbformat": 4,
 "nbformat_minor": 5
}
